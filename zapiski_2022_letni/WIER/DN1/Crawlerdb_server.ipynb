{
 "cells": [
  {
   "cell_type": "code",
   "execution_count": null,
   "id": "d5d79665",
   "metadata": {},
   "outputs": [],
   "source": [
    "import threading\n",
    "import psycopg2\n",
    "\n",
    "lock = threading.Lock()\n",
    "\n",
    "def reset_db_values():\n",
    "    conn = psycopg2.connect(host=\"localhost\", user=\"user\", password=\"SecretPassword\")\n",
    "    conn.autocommit = True\n",
    "    \n",
    "    cur = conn.cursor()\n",
    "    cur.execute(\"UPDATE showcase.counters SET value = 0\")\n",
    "    \n",
    "    cur.close()\n",
    "    conn.close()\n",
    "    \n",
    "def print_db_values():\n",
    "    conn = psycopg2.connect(host=\"localhost\", user=\"user\", password=\"SecretPassword\")\n",
    "    conn.autocommit = True\n",
    "\n",
    "    retVal = []\n",
    "    print(\"\\nValues in the database:\")\n",
    "    cur = conn.cursor()\n",
    "    cur.execute(\"SELECT counter_id, value FROM showcase.counters ORDER BY counter_id\")\n",
    "    for counter_id, value in cur.fetchall():\n",
    "        print(f\"\\tCounter id: {counter_id}, value: {value}\")\n",
    "        retVal.append({counter_id: value})\n",
    "    cur.close()\n",
    "    conn.close()\n",
    "    return retVal\n",
    "\n",
    "def increase_db_values(counter_id):\n",
    "    conn = psycopg2.connect(host=\"localhost\", user=\"user\", password=\"SecretPassword\")\n",
    "    conn.autocommit = True\n",
    "    \n",
    "    cur = conn.cursor()\n",
    "    cur.execute(\"SELECT value FROM showcase.counters WHERE counter_id = %s\", \\\n",
    "                (counter_id,))\n",
    "    value = cur.fetchone()[0]\n",
    "    cur.execute(\"UPDATE showcase.counters SET value = %s WHERE counter_id = %s\", \\\n",
    "                (value+1, counter_id))\n",
    "    cur.close()\n",
    "    conn.close()\n",
    "    \n",
    "def increase_db_values_locking(counter_id):\n",
    "    conn = psycopg2.connect(host=\"localhost\", user=\"user\", password=\"SecretPassword\")\n",
    "    conn.autocommit = True\n",
    "\n",
    "    with lock:\n",
    "        cur = conn.cursor()\n",
    "        cur.execute(\"SELECT value FROM showcase.counters WHERE counter_id = %s\", \\\n",
    "                    (counter_id,))\n",
    "        value = cur.fetchone()[0]\n",
    "        cur.execute(\"UPDATE showcase.counters SET value = %s WHERE counter_id = %s\", \\\n",
    "                    (value+1, counter_id))\n",
    "        cur.close()\n",
    "    conn.close()"
   ]
  },
  {
   "cell_type": "code",
   "execution_count": null,
   "id": "805b26b8",
   "metadata": {},
   "outputs": [],
   "source": []
  }
 ],
 "metadata": {
  "kernelspec": {
   "display_name": "Python 3 (ipykernel)",
   "language": "python",
   "name": "python3"
  },
  "language_info": {
   "codemirror_mode": {
    "name": "ipython",
    "version": 3
   },
   "file_extension": ".py",
   "mimetype": "text/x-python",
   "name": "python",
   "nbconvert_exporter": "python",
   "pygments_lexer": "ipython3",
   "version": "3.9.7"
  }
 },
 "nbformat": 4,
 "nbformat_minor": 5
}
