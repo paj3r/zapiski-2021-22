{
 "cells": [
  {
   "cell_type": "code",
   "execution_count": null,
   "id": "252879c2",
   "metadata": {},
   "outputs": [],
   "source": [
    "import urllib \n",
    "\n",
    "WEB_PAGE_ADDRESS = \"http://evem.gov.si\"\n",
    "\n",
    "print(f\"Retrieving web page URL '{WEB_PAGE_ADDRESS}'\")\n",
    "\n",
    "request = urllib.request.Request(\n",
    "    WEB_PAGE_ADDRESS, \n",
    "    headers={'User-Agent': 'fri-ieps-TEST'}\n",
    ")\n",
    "\n",
    "with urllib.request.urlopen(request) as response: \n",
    "    html = response.read().decode(\"utf-8\")\n",
    "    print(f\"Retrieved Web content: \\n\\n'\\n{html}\\n'\")"
   ]
  }
 ],
 "metadata": {
  "kernelspec": {
   "display_name": "Python 3 (ipykernel)",
   "language": "python",
   "name": "python3"
  },
  "language_info": {
   "codemirror_mode": {
    "name": "ipython",
    "version": 3
   },
   "file_extension": ".py",
   "mimetype": "text/x-python",
   "name": "python",
   "nbconvert_exporter": "python",
   "pygments_lexer": "ipython3",
   "version": "3.9.7"
  }
 },
 "nbformat": 4,
 "nbformat_minor": 5
}
